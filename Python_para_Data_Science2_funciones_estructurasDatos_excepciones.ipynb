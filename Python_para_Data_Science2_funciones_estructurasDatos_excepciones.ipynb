{
  "nbformat": 4,
  "nbformat_minor": 0,
  "metadata": {
    "colab": {
      "provenance": [],
      "include_colab_link": true
    },
    "kernelspec": {
      "name": "python3",
      "display_name": "Python 3"
    },
    "language_info": {
      "name": "python"
    }
  },
  "cells": [
    {
      "cell_type": "markdown",
      "metadata": {
        "id": "view-in-github",
        "colab_type": "text"
      },
      "source": [
        "<a href=\"https://colab.research.google.com/github/Evelin-Garcia/Python_para_Data_Science2_funciones_estructurasDatos_excepciones/blob/main/Python_para_Data_Science2_funciones_estructurasDatos_excepciones.ipynb\" target=\"_parent\"><img src=\"https://colab.research.google.com/assets/colab-badge.svg\" alt=\"Open In Colab\"/></a>"
      ]
    },
    {
      "cell_type": "markdown",
      "source": [
        "# <font color=green> **PYTHON PARA DATA SCIENCE**\n",
        "---"
      ],
      "metadata": {
        "id": "AGc2Cf4cBwd7"
      }
    },
    {
      "cell_type": "markdown",
      "source": [
        "## <font color=green> 1. BIBLIOTECAS\n",
        "---"
      ],
      "metadata": {
        "id": "fH2br9y9CYZ8"
      }
    },
    {
      "cell_type": "markdown",
      "source": [
        "## 1.1 Instalación e importación de bibliotecas\n",
        "\n",
        "En el lenguaje Python se utiliza bastante el concepto de bibliotecas como un conjunto de módulos y funciones útiles para el usuario. Estas favorecen la reducción del uso de códigos en el proyecto, manteniendo únicamente los recursos necesarios para la tarea que deseamos realizar."
      ],
      "metadata": {
        "id": "jjEKgfiuFzHz"
      }
    },
    {
      "cell_type": "markdown",
      "source": [
        "### Instalando una biblioteca"
      ],
      "metadata": {
        "id": "JjpazCgqDRfZ"
      }
    },
    {
      "cell_type": "markdown",
      "source": [
        "Para instalar o actualizar una biblioteca en Python, podemos acudir a `pip` que es un gestor de bibliotecas en Python."
      ],
      "metadata": {
        "id": "_qnuIo7oIQYx"
      }
    },
    {
      "cell_type": "markdown",
      "source": [
        "Existe también PYPI que es un repositorio de bibliotecas Python que contiene las bibliotecas más utilizadas por la comunidad junto a su respectiva documentación.\n",
        "\n",
        "- PYPI ([https://pypi.org/](https://pypi.org/))"
      ],
      "metadata": {
        "id": "IHTmQnlXInD1"
      }
    },
    {
      "cell_type": "code",
      "source": [
        "!pip install matplotlib\n"
      ],
      "metadata": {
        "id": "Rv5sIo7NM5VS",
        "colab": {
          "base_uri": "https://localhost:8080/"
        },
        "outputId": "f183e9e6-5961-4612-ce9e-47932a6db32c"
      },
      "execution_count": null,
      "outputs": [
        {
          "output_type": "stream",
          "name": "stdout",
          "text": [
            "Requirement already satisfied: matplotlib in /usr/local/lib/python3.11/dist-packages (3.10.0)\n",
            "Requirement already satisfied: contourpy>=1.0.1 in /usr/local/lib/python3.11/dist-packages (from matplotlib) (1.3.1)\n",
            "Requirement already satisfied: cycler>=0.10 in /usr/local/lib/python3.11/dist-packages (from matplotlib) (0.12.1)\n",
            "Requirement already satisfied: fonttools>=4.22.0 in /usr/local/lib/python3.11/dist-packages (from matplotlib) (4.57.0)\n",
            "Requirement already satisfied: kiwisolver>=1.3.1 in /usr/local/lib/python3.11/dist-packages (from matplotlib) (1.4.8)\n",
            "Requirement already satisfied: numpy>=1.23 in /usr/local/lib/python3.11/dist-packages (from matplotlib) (2.0.2)\n",
            "Requirement already satisfied: packaging>=20.0 in /usr/local/lib/python3.11/dist-packages (from matplotlib) (24.2)\n",
            "Requirement already satisfied: pillow>=8 in /usr/local/lib/python3.11/dist-packages (from matplotlib) (11.1.0)\n",
            "Requirement already satisfied: pyparsing>=2.3.1 in /usr/local/lib/python3.11/dist-packages (from matplotlib) (3.2.3)\n",
            "Requirement already satisfied: python-dateutil>=2.7 in /usr/local/lib/python3.11/dist-packages (from matplotlib) (2.8.2)\n",
            "Requirement already satisfied: six>=1.5 in /usr/local/lib/python3.11/dist-packages (from python-dateutil>=2.7->matplotlib) (1.17.0)\n"
          ]
        }
      ]
    },
    {
      "cell_type": "code",
      "source": [
        "matplotlib.__version__"
      ],
      "metadata": {
        "id": "REYsDRqHM6hN",
        "colab": {
          "base_uri": "https://localhost:8080/",
          "height": 141
        },
        "outputId": "c3b702d3-deb4-4beb-db25-6dbcbc1da539"
      },
      "execution_count": null,
      "outputs": [
        {
          "output_type": "error",
          "ename": "NameError",
          "evalue": "name 'matplotlib' is not defined",
          "traceback": [
            "\u001b[0;31m---------------------------------------------------------------------------\u001b[0m",
            "\u001b[0;31mNameError\u001b[0m                                 Traceback (most recent call last)",
            "\u001b[0;32m<ipython-input-2-dd805d611f8f>\u001b[0m in \u001b[0;36m<cell line: 0>\u001b[0;34m()\u001b[0m\n\u001b[0;32m----> 1\u001b[0;31m \u001b[0mmatplotlib\u001b[0m\u001b[0;34m.\u001b[0m\u001b[0m__version__\u001b[0m\u001b[0;34m\u001b[0m\u001b[0;34m\u001b[0m\u001b[0m\n\u001b[0m",
            "\u001b[0;31mNameError\u001b[0m: name 'matplotlib' is not defined"
          ]
        }
      ]
    },
    {
      "cell_type": "markdown",
      "source": [
        "### Importando una biblioteca"
      ],
      "metadata": {
        "id": "A76TbnDbDehe"
      }
    },
    {
      "cell_type": "code",
      "source": [
        "import matplotlib"
      ],
      "metadata": {
        "id": "_xUxLlZFM728"
      },
      "execution_count": null,
      "outputs": []
    },
    {
      "cell_type": "code",
      "source": [
        "matplotlib.__version__"
      ],
      "metadata": {
        "id": "xy035zQzM75b",
        "colab": {
          "base_uri": "https://localhost:8080/",
          "height": 35
        },
        "outputId": "0d5cefb4-0932-4dba-9d08-b570ff33fbec"
      },
      "execution_count": null,
      "outputs": [
        {
          "output_type": "execute_result",
          "data": {
            "text/plain": [
              "'3.10.0'"
            ],
            "application/vnd.google.colaboratory.intrinsic+json": {
              "type": "string"
            }
          },
          "metadata": {},
          "execution_count": 5
        }
      ]
    },
    {
      "cell_type": "code",
      "source": [
        "import matplotlib.pyplot as plt"
      ],
      "metadata": {
        "id": "mL6gXJioLg5r"
      },
      "execution_count": null,
      "outputs": []
    },
    {
      "cell_type": "code",
      "source": [],
      "metadata": {
        "id": "sXgc3i8jLq9n"
      },
      "execution_count": null,
      "outputs": []
    },
    {
      "cell_type": "markdown",
      "source": [
        "## 1.2 Utilizando módulos/bibliotecas\n",
        "\n",
        "- Documentación de Python (https://docs.python.org/es/3/)"
      ],
      "metadata": {
        "id": "oMxkV9-6GXwH"
      }
    },
    {
      "cell_type": "markdown",
      "source": [
        "#### Ejemplo 1: Vamos a probar la biblioteca Matplotlib para un ejemplo sobre el cálculo de los promedios de notas de los estudiantes de una clase.\n",
        "\n",
        "(https://matplotlib.org/stable/tutorials/introductory/pyplot.html)"
      ],
      "metadata": {
        "id": "W1MHaXB2Q7tT"
      }
    },
    {
      "cell_type": "code",
      "source": [
        "from matplotlib import pyplot as plt"
      ],
      "metadata": {
        "id": "hme-WlDYM-Od"
      },
      "execution_count": null,
      "outputs": []
    },
    {
      "cell_type": "code",
      "source": [
        "estudiantes = ['Juan', 'Maria', 'José']\n",
        "notas = [9, 8.5, 6.5]"
      ],
      "metadata": {
        "id": "mv1h3vJsM-RK"
      },
      "execution_count": null,
      "outputs": []
    },
    {
      "cell_type": "code",
      "source": [
        "plt.bar(x=estudiantes, height=notas)\n",
        "plt.show()"
      ],
      "metadata": {
        "id": "GK77H828M-Zk",
        "colab": {
          "base_uri": "https://localhost:8080/",
          "height": 430
        },
        "outputId": "ea40d090-32d0-4fcc-a54b-222df5aef8ac"
      },
      "execution_count": null,
      "outputs": [
        {
          "output_type": "display_data",
          "data": {
            "text/plain": [
              "<Figure size 640x480 with 1 Axes>"
            ],
            "image/png": "[encoded data removed]"
          },
          "metadata": {}
        }
      ]
    },
    {
      "cell_type": "markdown",
      "source": [
        "#### Ejemplo 2: Vamos a seleccionar aleatoriamente a un alumno para presentar su trabajo de ciencia de datos usando la biblioteca `random`.\n",
        "\n",
        "(https://docs.python.org/es/3/library/random.html)"
      ],
      "metadata": {
        "id": "5G6u4ZRYRIFZ"
      }
    },
    {
      "cell_type": "code",
      "source": [
        "estudiantes_2 = ['Juan', 'Maria', 'José', 'Érica']"
      ],
      "metadata": {
        "id": "Y4o2AvhWNBdM"
      },
      "execution_count": null,
      "outputs": []
    },
    {
      "cell_type": "code",
      "source": [
        "import random"
      ],
      "metadata": {
        "id": "9fXfsVnANBiG"
      },
      "execution_count": null,
      "outputs": []
    },
    {
      "cell_type": "markdown",
      "source": [
        "<font color=green>**Tip:**</font> Podrás notar a medida que avanzas en los ejercicios la importancia de acudir a la documentación para aprender cómo utilizar un método de algún módulo en el lenguaje Python.\n",
        "\n",
        "El método `help()`, por ejemplo, retorna una descripción sobre una variable, método o clase.\n",
        "\n",
        "https://docs.python.org/es/3/library/functions.html?#help"
      ],
      "metadata": {
        "id": "N-XJrnISGpTN"
      }
    },
    {
      "cell_type": "code",
      "source": [
        "from random import choice"
      ],
      "metadata": {
        "id": "a2zJCXNUND9X"
      },
      "execution_count": null,
      "outputs": []
    },
    {
      "cell_type": "code",
      "source": [
        "estudiante = choice(estudiantes_2)\n",
        "estudiante"
      ],
      "metadata": {
        "id": "2Yvr71PIND_r",
        "colab": {
          "base_uri": "https://localhost:8080/",
          "height": 35
        },
        "outputId": "2067cb76-be44-4148-b755-09d74a6ec4bc"
      },
      "execution_count": null,
      "outputs": [
        {
          "output_type": "execute_result",
          "data": {
            "text/plain": [
              "'Maria'"
            ],
            "application/vnd.google.colaboratory.intrinsic+json": {
              "type": "string"
            }
          },
          "metadata": {},
          "execution_count": 25
        }
      ]
    },
    {
      "cell_type": "code",
      "source": [
        "help(choice)"
      ],
      "metadata": {
        "id": "UFfZz4CxNGjU",
        "colab": {
          "base_uri": "https://localhost:8080/"
        },
        "outputId": "c579fd0e-a558-4a23-e8a3-7e554d0c2ada"
      },
      "execution_count": null,
      "outputs": [
        {
          "output_type": "stream",
          "name": "stdout",
          "text": [
            "Help on method choice in module random:\n",
            "\n",
            "choice(seq) method of random.Random instance\n",
            "    Choose a random element from a non-empty sequence.\n",
            "\n"
          ]
        }
      ]
    },
    {
      "cell_type": "markdown",
      "source": [
        "#Ejemplos de ejercicios donde usamos importación de math y algunos de sus módulos:"
      ],
      "metadata": {
        "id": "KQQBy2qOWAzn"
      }
    },
    {
      "cell_type": "markdown",
      "source": [
        "1 - Escribe un código para instalar la versión 3.7.1 de la biblioteca matplotlib."
      ],
      "metadata": {
        "id": "Kh96W-jxWZkw"
      }
    },
    {
      "cell_type": "code",
      "source": [
        "#pip install matplotlib==3.7.1"
      ],
      "metadata": {
        "id": "QxHuUKGmWYSL"
      },
      "execution_count": null,
      "outputs": []
    },
    {
      "cell_type": "markdown",
      "source": [
        "2 - Escribe un código para importar la biblioteca numpy con el alias np."
      ],
      "metadata": {
        "id": "IlX2I-apWpSl"
      }
    },
    {
      "cell_type": "code",
      "source": [
        "#import numpy as np"
      ],
      "metadata": {
        "id": "4HCE8-hJWybz"
      },
      "execution_count": null,
      "outputs": []
    },
    {
      "cell_type": "markdown",
      "source": [
        "3 - Crea un programa que lea la siguiente lista de números y elija uno al azar."
      ],
      "metadata": {
        "id": "p8J_5T-oWzIU"
      }
    },
    {
      "cell_type": "code",
      "source": [
        "import random\n",
        "\n",
        "lista = [8, 12, 54, 23, 43, 1, 90, 87, 105, 77]\n",
        "numero_aleatorio = random.choice(lista)\n",
        "print(numero_aleatorio)"
      ],
      "metadata": {
        "colab": {
          "base_uri": "https://localhost:8080/"
        },
        "id": "66QD22lgWzcT",
        "outputId": "8a1575b1-6761-4464-ba6f-a5a75555169f"
      },
      "execution_count": null,
      "outputs": [
        {
          "output_type": "stream",
          "name": "stdout",
          "text": [
            "12\n"
          ]
        }
      ]
    },
    {
      "cell_type": "markdown",
      "source": [
        "4 - Crea un programa que genere aleatoriamente un número entero menor que 100."
      ],
      "metadata": {
        "id": "O3hIPWa2XC3w"
      }
    },
    {
      "cell_type": "code",
      "source": [
        "import random\n",
        "numero_aleatorio = random.randrange(100)\n",
        "print(numero_aleatorio)"
      ],
      "metadata": {
        "colab": {
          "base_uri": "https://localhost:8080/"
        },
        "id": "jVrU1lghXDBw",
        "outputId": "f187b8f0-cd34-4e77-8e4b-8d54f8e06355"
      },
      "execution_count": null,
      "outputs": [
        {
          "output_type": "stream",
          "name": "stdout",
          "text": [
            "23\n"
          ]
        }
      ]
    },
    {
      "cell_type": "markdown",
      "source": [
        "Para el anterior tambien podríamos haber usado:"
      ],
      "metadata": {
        "id": "m6NU9f-tXDLn"
      }
    },
    {
      "cell_type": "code",
      "source": [
        "import random\n",
        "numero_aleatorio = random.randint(0, 99)\n",
        "print(numero_aleatorio)"
      ],
      "metadata": {
        "colab": {
          "base_uri": "https://localhost:8080/"
        },
        "id": "GWvjbhGfXaI2",
        "outputId": "71fdfffa-7ed5-4022-8813-25ef6a51918d"
      },
      "execution_count": null,
      "outputs": [
        {
          "output_type": "stream",
          "name": "stdout",
          "text": [
            "13\n"
          ]
        }
      ]
    },
    {
      "cell_type": "markdown",
      "source": [
        "5 - Crea un programa que solicite a la persona usuaria ingresar dos números enteros y calcule la potencia del primer número elevado al segundo."
      ],
      "metadata": {
        "id": "dXh93F1iXl_C"
      }
    },
    {
      "cell_type": "code",
      "source": [
        "import math\n",
        "\n",
        "numero1 = int(input(\"Ingrese el primer número entero: \"))\n",
        "numero2 = int(input(\"Ingrese el segundo número entero: \"))\n",
        "potencia = math.pow(numero1, numero2)\n",
        "print(f\"La potencia de {numero1} elevado a {numero2} es: {potencia}\")"
      ],
      "metadata": {
        "colab": {
          "base_uri": "https://localhost:8080/"
        },
        "id": "UaxP5eyjXDV_",
        "outputId": "3153b2f6-f2a2-4498-b19a-457eee019379"
      },
      "execution_count": null,
      "outputs": [
        {
          "output_type": "stream",
          "name": "stdout",
          "text": [
            "Ingrese el primer número entero: 5\n",
            "Ingrese el segundo número entero: 3\n",
            "La potencia de 5 elevado a 3 es: 125.0\n"
          ]
        }
      ]
    },
    {
      "cell_type": "markdown",
      "source": [
        "6 - Se debe escribir un programa para sortear a un seguidor de una red social para ganar un premio. La lista de participantes está numerada y debemos elegir aleatoriamente un número según la cantidad de participantes. Pide a la persona usuaria que proporcione el número de participantes del sorteo y devuelve el número sorteado.\n"
      ],
      "metadata": {
        "id": "-9-wLzIQXDgu"
      }
    },
    {
      "cell_type": "code",
      "source": [
        "import random\n",
        "\n",
        "cantidad_participantes = int(input(\"Ingrese la cantidad de participantes: \"))\n",
        "numero_sorteado = random.randint(1, cantidad_participantes)\n",
        "print(f\"El número sorteado es: {numero_sorteado}\")\n"
      ],
      "metadata": {
        "colab": {
          "base_uri": "https://localhost:8080/"
        },
        "id": "2iphVkGaXDsW",
        "outputId": "1a174416-a6bb-417e-b6fd-24a42db90723"
      },
      "execution_count": null,
      "outputs": [
        {
          "output_type": "stream",
          "name": "stdout",
          "text": [
            "Ingrese la cantidad de participantes: 6700\n",
            "El número sorteado es: 6206\n"
          ]
        }
      ]
    },
    {
      "cell_type": "markdown",
      "source": [
        "7 - Has recibido una solicitud para generar números de token para acceder a la aplicación de una empresa. El token debe ser par y variar de 1000 a 9998. Escribe un código que solicite el nombre de la persona usuaria y muestre un mensaje junto a este token generado aleatoriamente."
      ],
      "metadata": {
        "id": "yHTeb14LWzn8"
      }
    },
    {
      "cell_type": "code",
      "source": [
        "import random\n",
        "usuario = input(\"Ingrese su nombre: \")\n",
        "token = random.randrange(1000, 9999, 2)\n",
        "print(f\"Hola {usuario}, su token de acceso es: {token}\")"
      ],
      "metadata": {
        "colab": {
          "base_uri": "https://localhost:8080/"
        },
        "id": "ITfowAglWzxU",
        "outputId": "65c0a8fe-589c-4e78-e150-67f1b1000326"
      },
      "execution_count": null,
      "outputs": [
        {
          "output_type": "stream",
          "name": "stdout",
          "text": [
            "Ingrese su nombre: Evelin\n",
            "Hola Evelin, su token de acceso es: 3202\n"
          ]
        }
      ]
    },
    {
      "cell_type": "markdown",
      "source": [
        "8 - Para diversificar y atraer nuevos clientes, una lanchonete creó un ítem misterioso en su menú llamado \"ensalada de frutas sorpresa\". En este ítem, se eligen aleatoriamente 3 frutas de una lista de 12 para componer la ensalada de frutas del cliente. Crea el código que realice esta selección aleatoria según la lista dada."
      ],
      "metadata": {
        "id": "ujI_ik0WYiNv"
      }
    },
    {
      "cell_type": "code",
      "source": [
        "import random\n",
        "frutas = [\"manzana\", \"banana\", \"uva\", \"pera\", \"mango\", \"coco\", \"sandia\", \"fresa\", \"naranja\", \"maracuya\", \"kiwi\", \"cereza\"]\n",
        "seleccion_frutas = random.sample(frutas, 3)\n",
        "print(\"Ensalada de frutas sorpresa:\", seleccion_frutas)"
      ],
      "metadata": {
        "colab": {
          "base_uri": "https://localhost:8080/"
        },
        "id": "hBoMf1A1YiY3",
        "outputId": "dbf733c2-c5cc-4854-da06-7c93686e5c72"
      },
      "execution_count": null,
      "outputs": [
        {
          "output_type": "stream",
          "name": "stdout",
          "text": [
            "Ensalada de frutas sorpresa: ['maracuya', 'fresa', 'uva']\n"
          ]
        }
      ]
    },
    {
      "cell_type": "markdown",
      "source": [
        "9 - Has recibido un desafío para calcular la raíz cuadrada de una lista de números, identificando cuáles resultan en un número entero. La lista es la siguiente:"
      ],
      "metadata": {
        "id": "-r47eB5xYinv"
      }
    },
    {
      "cell_type": "code",
      "source": [
        "import random\n",
        "numeros = [2, 8, 15, 23, 91, 112, 256]\n",
        "raices_enteras = [num for num in numeros if math.sqrt(num) % 1 == 0]\n",
        "print(\"Números con raíces enteras:\", raices_enteras)"
      ],
      "metadata": {
        "colab": {
          "base_uri": "https://localhost:8080/"
        },
        "id": "fxobvVyUYiy-",
        "outputId": "f53e7d01-a435-4a25-bef5-2d5ab9fd24cf"
      },
      "execution_count": null,
      "outputs": [
        {
          "output_type": "stream",
          "name": "stdout",
          "text": [
            "Números con raíces enteras: [256]\n"
          ]
        }
      ]
    },
    {
      "cell_type": "markdown",
      "source": [
        "10 - Haz un programa para una tienda que vende césped para jardines. Esta tienda trabaja con jardines circulares y el precio del metro cuadrado de césped es de R$ 25,00. Pide a la persona usuaria el radio del área circular y devuelve el valor en reales de cuánto tendrá que pagar."
      ],
      "metadata": {
        "id": "zUPwvJ_PYkfM"
      }
    },
    {
      "cell_type": "code",
      "source": [
        "import math\n",
        "precio_metro_cuadrado = 25.00\n",
        "radio = float(input(\"Ingrese el radio del área circular: \"))\n",
        "area = math.pi * math.pow(radio, 2)\n",
        "precio_total = area * precio_metro_cuadrado\n",
        "print(f\"El precio total a pagar es: R$ {precio_total:.2f}\")"
      ],
      "metadata": {
        "colab": {
          "base_uri": "https://localhost:8080/"
        },
        "id": "lkdTq-c2Yknr",
        "outputId": "4382dd47-49fe-4df8-9bd0-4d88d689d9b3"
      },
      "execution_count": null,
      "outputs": [
        {
          "output_type": "stream",
          "name": "stdout",
          "text": [
            "Ingrese el radio del área circular: 45\n",
            "El precio total a pagar es: R$ 159043.13\n"
          ]
        }
      ]
    },
    {
      "cell_type": "markdown",
      "source": [
        "## <font color=green> 2. FUNCIONES\n",
        "---"
      ],
      "metadata": {
        "id": "2hrSPmlcBwWS"
      }
    },
    {
      "cell_type": "markdown",
      "source": [
        "En Python, las **funciones** son secuencias de instrucciones que ejecutan tareas específicas, permitiendo su reutilización en diferentes partes del código. Estas pueden recibir parámetros de entrada (que también los conocemos como *inputs*) y también retornar resultados."
      ],
      "metadata": {
        "id": "gC4lHsW-DREY"
      }
    },
    {
      "cell_type": "code",
      "source": [],
      "metadata": {
        "id": "tljbh3lZaR6h"
      },
      "execution_count": null,
      "outputs": []
    },
    {
      "cell_type": "markdown",
      "source": [
        "## 2.1 Built-in function (Función Incorporada)\n",
        "\n",
        "El interpretador de Python contiene una serie de funciones incorporadas que pueden ser invocadas es cualquier momento. Algunas que vamos a utilizar a lo largo de este curso son: `type()`, `print()`, `list()`, `zip()`, `sum()`, `map()`, etc.\n",
        "\n",
        "***Documentación:***\n",
        "https://docs.python.org/es/3/library/functions.html\n"
      ],
      "metadata": {
        "id": "Qr_h1_UNEzHZ"
      }
    },
    {
      "cell_type": "markdown",
      "source": [
        "#### **Situación 1:**\n",
        "\n",
        "La institución educativa para la cual nos encontramos trabajando compartió los datos de las notas de un estudiante para que pudiesemos calcular su promedio con una casilla decimal.\n",
        "\n",
        "Los datos recibidos corresponden a un diccionario cuyas llaves indican el trimestre en cuestión y sus valores corresponden a las notas de cada trimestre del estudiante en una respectiva materia."
      ],
      "metadata": {
        "id": "MMOJIW3TyLIB"
      }
    },
    {
      "cell_type": "code",
      "source": [
        "notas = {'1° Trimestre': 9.5, '2° Trimestre': 8,'3° Trimestre': 7}"
      ],
      "metadata": {
        "id": "WQ-pCgdaMOlc"
      },
      "execution_count": null,
      "outputs": []
    },
    {
      "cell_type": "code",
      "source": [
        "suma = 0\n",
        "for nota in notas.values():\n",
        "  suma += nota\n",
        "print(suma)"
      ],
      "metadata": {
        "id": "GU-HvC-QMOoS",
        "colab": {
          "base_uri": "https://localhost:8080/"
        },
        "outputId": "92ada408-4060-4c11-f5cc-860a04318cad"
      },
      "execution_count": null,
      "outputs": [
        {
          "output_type": "stream",
          "name": "stdout",
          "text": [
            "24.5\n"
          ]
        }
      ]
    },
    {
      "cell_type": "markdown",
      "source": [
        "luego el resultado anterior deberíamos dividirlo por tres; sin embargo, otra forma de hacer lo mismo pero usando las funciones incorporadas de Python sería hacer lo siguiente:"
      ],
      "metadata": {
        "id": "Z1viK3AAcB1E"
      }
    },
    {
      "cell_type": "code",
      "source": [
        "promedio = sum(notas.values())/ len(notas)\n",
        "print(promedio)"
      ],
      "metadata": {
        "id": "qKEyjY2bMOqj",
        "colab": {
          "base_uri": "https://localhost:8080/"
        },
        "outputId": "809674e7-2765-4098-c1f4-3f648a63e899"
      },
      "execution_count": null,
      "outputs": [
        {
          "output_type": "stream",
          "name": "stdout",
          "text": [
            "8.166666666666666\n"
          ]
        }
      ]
    },
    {
      "cell_type": "markdown",
      "source": [
        "*Redondear el promedio usando round():*\n",
        "\n",
        "https://docs.python.org/es/3/library/functions.html#round"
      ],
      "metadata": {
        "id": "JD2z3LW8312E"
      }
    },
    {
      "cell_type": "code",
      "source": [
        "help(round)"
      ],
      "metadata": {
        "id": "c7Cn5XFfMP5E",
        "colab": {
          "base_uri": "https://localhost:8080/"
        },
        "outputId": "d9b53bf5-8be7-48f4-9df8-9e66eac9cbb3"
      },
      "execution_count": null,
      "outputs": [
        {
          "output_type": "stream",
          "name": "stdout",
          "text": [
            "Help on built-in function round in module builtins:\n",
            "\n",
            "round(number, ndigits=None)\n",
            "    Round a number to a given precision in decimal digits.\n",
            "    \n",
            "    The return value is an integer if ndigits is omitted or None.  Otherwise\n",
            "    the return value has the same type as the number.  ndigits may be negative.\n",
            "\n"
          ]
        }
      ]
    },
    {
      "cell_type": "code",
      "source": [
        "promedio = round(promedio, 1)\n",
        "print(promedio)"
      ],
      "metadata": {
        "id": "eVNPFr0pMRWl",
        "colab": {
          "base_uri": "https://localhost:8080/"
        },
        "outputId": "a67fe90e-181d-4cb6-b94a-9fa079452fba"
      },
      "execution_count": null,
      "outputs": [
        {
          "output_type": "stream",
          "name": "stdout",
          "text": [
            "8.2\n"
          ]
        }
      ]
    },
    {
      "cell_type": "markdown",
      "source": [
        "## 2.2 Creando funciones"
      ],
      "metadata": {
        "id": "NCUSezOJIdfy"
      }
    },
    {
      "cell_type": "markdown",
      "source": [
        "Tras explorar las funciones incorporadas y aprender cómo utilizar algunas de ellas, es posible que tengas la necesidad de resolver un problema específico y estas no sean suficientes.\n",
        "\n",
        "Por este motivo, necesitaremos crear nuestras propias funciones, y aún más, si necesitamos aplicarlas en varias partes de nuestros códigos."
      ],
      "metadata": {
        "id": "QrTAXwghsg6s"
      }
    },
    {
      "cell_type": "markdown",
      "source": [
        "### Funciones sin parámetros\n",
        "\n",
        "#### Formato estándar:\n",
        "\n",
        "```python\n",
        "def <nombre>():\n",
        "  <instrucciones>\n",
        "```"
      ],
      "metadata": {
        "id": "zxyXiX462A_X"
      }
    },
    {
      "cell_type": "code",
      "source": [
        "def promedio():\n",
        "  calculo = (10+9+7)/3\n",
        "  print (calculo)"
      ],
      "metadata": {
        "id": "WgWoULpnMSrT"
      },
      "execution_count": 1,
      "outputs": []
    },
    {
      "cell_type": "code",
      "source": [
        "promedio()"
      ],
      "metadata": {
        "id": "VKfg0zkDMStp",
        "colab": {
          "base_uri": "https://localhost:8080/"
        },
        "outputId": "963701e8-0500-447c-e98c-ec2ef2b219c2"
      },
      "execution_count": 2,
      "outputs": [
        {
          "output_type": "stream",
          "name": "stdout",
          "text": [
            "8.666666666666666\n"
          ]
        }
      ]
    },
    {
      "cell_type": "markdown",
      "source": [
        "### Funciones con parámetros\n",
        "\n",
        "#### Formato estándar:\n",
        "\n",
        "```python\n",
        "def <nombre>(<param_1>, <param_2>, ..., <param_n>):\n",
        "  <instrucciones>\n",
        "```"
      ],
      "metadata": {
        "id": "o9AR_DNDFKSD"
      }
    },
    {
      "cell_type": "code",
      "source": [
        "def promedio(nota_1, nota_2, nota_3):\n",
        "  calculo = (nota_1+ nota_2+ nota_3)/3\n",
        "  print(calculo)"
      ],
      "metadata": {
        "id": "1QHJXCYsMUx3"
      },
      "execution_count": 3,
      "outputs": []
    },
    {
      "cell_type": "code",
      "source": [
        "promedio(10,9,7)"
      ],
      "metadata": {
        "id": "txkkIwheMU0n",
        "colab": {
          "base_uri": "https://localhost:8080/"
        },
        "outputId": "ae9e006c-b0a4-4cac-fcf2-5124d5e7d7e6"
      },
      "execution_count": 4,
      "outputs": [
        {
          "output_type": "stream",
          "name": "stdout",
          "text": [
            "8.666666666666666\n"
          ]
        }
      ]
    },
    {
      "cell_type": "markdown",
      "source": [
        "Otra forma es especificando a qué corresponde cada parámetro (suponiendo por ejemplo que estuvieran en ordenes distintos o fueran parámetros que sí lo afectara en qué posición están tomados:"
      ],
      "metadata": {
        "id": "-E5358HQc380"
      }
    },
    {
      "cell_type": "code",
      "source": [
        "promedio(nota_1=10, nota_2=9, nota_3=7)"
      ],
      "metadata": {
        "id": "Pq88ApQEMWK9",
        "colab": {
          "base_uri": "https://localhost:8080/"
        },
        "outputId": "1b6b4d66-3815-46b5-c17d-1615faff3fec"
      },
      "execution_count": 5,
      "outputs": [
        {
          "output_type": "stream",
          "name": "stdout",
          "text": [
            "8.666666666666666\n"
          ]
        }
      ]
    },
    {
      "cell_type": "markdown",
      "source": [
        "#### **Situación 2:**\n",
        "\n",
        "Recibimos una solicitud para crear una función que calcule el promedio de notas de un estudiante a partir de una lista; que permita alterar la cantidad de notas, y que no implique tener que modificar la función.\n",
        "\n",
        "Los datos recibidos, en esta ocasión, corresponden a una lista que contiene las notas de un mismo estudiante en una determinada materia.\n",
        "\n",
        "notas = 8.5, 9.0, 6.0, 10.0\n",
        "\n",
        "**¿Vamos a resolver este desafío?**\n",
        "\n",
        "Para facilitar nuestra comprensión del proceso, vamos a aplicar las notas de un único estudiante; sin embargo, puedes probar otros casos para practicar."
      ],
      "metadata": {
        "id": "-Umx7n134suz"
      }
    },
    {
      "cell_type": "code",
      "source": [
        "notas = [8.5, 9.0, 6.0, 10.0]"
      ],
      "metadata": {
        "id": "U4MlTO9ucAKc"
      },
      "execution_count": 8,
      "outputs": []
    },
    {
      "cell_type": "code",
      "source": [
        "def promedio(lista):\n",
        "  calculo = sum(lista) / len(lista)\n",
        "  print(calculo)"
      ],
      "metadata": {
        "id": "ZrqyDBNFMYOK"
      },
      "execution_count": 6,
      "outputs": []
    },
    {
      "cell_type": "code",
      "source": [
        "promedio(notas)"
      ],
      "metadata": {
        "id": "wEkixagwMY2E",
        "colab": {
          "base_uri": "https://localhost:8080/"
        },
        "outputId": "4645b816-2af1-4d26-d948-48211c82c460"
      },
      "execution_count": 9,
      "outputs": [
        {
          "output_type": "stream",
          "name": "stdout",
          "text": [
            "8.375\n"
          ]
        }
      ]
    },
    {
      "cell_type": "code",
      "source": [
        "media = promedio(notas)"
      ],
      "metadata": {
        "id": "60Gvxd9tMa5d",
        "colab": {
          "base_uri": "https://localhost:8080/"
        },
        "outputId": "bc543753-80c5-4589-f8a7-93ba73f31e7c"
      },
      "execution_count": 10,
      "outputs": [
        {
          "output_type": "stream",
          "name": "stdout",
          "text": [
            "8.375\n"
          ]
        }
      ]
    },
    {
      "cell_type": "code",
      "source": [
        "type(media)"
      ],
      "metadata": {
        "colab": {
          "base_uri": "https://localhost:8080/"
        },
        "id": "18KrmbbdeTRZ",
        "outputId": "bab3ad09-6139-4da6-f490-748e5a6262f1"
      },
      "execution_count": 11,
      "outputs": [
        {
          "output_type": "execute_result",
          "data": {
            "text/plain": [
              "NoneType"
            ]
          },
          "metadata": {},
          "execution_count": 11
        }
      ]
    },
    {
      "cell_type": "markdown",
      "source": [
        "<font color=red>**Atención!**</font>\n",
        "Cuando utilizamos funciones, necesitamos prestar atención a una propiedad llamada **Alcance de una función**. Esta propiedad determina dónde una variable puede ser utilizada dentro del código. Por ejemplo, una variable creada dentro de una función existirá únicamente dentro de esta función. O sea, cuando finaliza la ejecución de una función, la variable no estará disponible para el usuario en el resto del código."
      ],
      "metadata": {
        "id": "skMq7d0_xHND"
      }
    },
    {
      "cell_type": "markdown",
      "source": [
        "Ejemplo, vamos a llamar a la variable 'calculo' que definimos en la función promedio, pero vemos q al invocarla no dice que no está definida, esto es porque ella no existe fuera de función donde fue creada.. (scope)"
      ],
      "metadata": {
        "id": "q8L_UBFMfMJy"
      }
    },
    {
      "cell_type": "code",
      "source": [
        "calculo"
      ],
      "metadata": {
        "id": "yTOqJSgsMbdJ",
        "colab": {
          "base_uri": "https://localhost:8080/",
          "height": 141
        },
        "outputId": "1d837492-8db3-4a09-97a1-67afc6cef26b"
      },
      "execution_count": 12,
      "outputs": [
        {
          "output_type": "error",
          "ename": "NameError",
          "evalue": "name 'calculo' is not defined",
          "traceback": [
            "\u001b[0;31m---------------------------------------------------------------------------\u001b[0m",
            "\u001b[0;31mNameError\u001b[0m                                 Traceback (most recent call last)",
            "\u001b[0;32m<ipython-input-12-358730cc7909>\u001b[0m in \u001b[0;36m<cell line: 0>\u001b[0;34m()\u001b[0m\n\u001b[0;32m----> 1\u001b[0;31m \u001b[0mcalculo\u001b[0m\u001b[0;34m\u001b[0m\u001b[0;34m\u001b[0m\u001b[0m\n\u001b[0m",
            "\u001b[0;31mNameError\u001b[0m: name 'calculo' is not defined"
          ]
        }
      ]
    },
    {
      "cell_type": "markdown",
      "source": [
        "## 2.3 Funciones que retornan valores\n",
        "\n",
        "#### Formato estándar:\n",
        "\n",
        "```python\n",
        "def <nombre>(<param_1>, <param_2>, ..., <param_n>):\n",
        "  <instrucciones>\n",
        "  return resultado\n",
        "```"
      ],
      "metadata": {
        "id": "-oDFGKcA52kG"
      }
    },
    {
      "cell_type": "markdown",
      "source": [
        "Retomando la actividad anterior, podemos retornar y guardar el valor del promedio de la siguiente forma:"
      ],
      "metadata": {
        "id": "DxvT_uItbQ-q"
      }
    },
    {
      "cell_type": "code",
      "source": [
        "# Notas del estudiante\n",
        "notas = [8.5, 9.0, 6.0, 10.0]"
      ],
      "metadata": {
        "id": "GlWdnX7Ubgl3"
      },
      "execution_count": 2,
      "outputs": []
    },
    {
      "cell_type": "code",
      "source": [
        "def promedio(lista):\n",
        "  resultado = sum(lista) / len(lista)\n",
        "  return resultado"
      ],
      "metadata": {
        "id": "JdMFsT9GMgI6"
      },
      "execution_count": 3,
      "outputs": []
    },
    {
      "cell_type": "code",
      "source": [
        "promedio(notas)"
      ],
      "metadata": {
        "id": "p7AwNnTCMgLf",
        "colab": {
          "base_uri": "https://localhost:8080/"
        },
        "outputId": "395e73da-94fa-4104-eea6-7b98da118268"
      },
      "execution_count": 4,
      "outputs": [
        {
          "output_type": "execute_result",
          "data": {
            "text/plain": [
              "8.375"
            ]
          },
          "metadata": {},
          "execution_count": 4
        }
      ]
    },
    {
      "cell_type": "code",
      "source": [
        "resultado = promedio(notas)"
      ],
      "metadata": {
        "id": "35zC247QMgRP"
      },
      "execution_count": 5,
      "outputs": []
    },
    {
      "cell_type": "code",
      "source": [
        "type(resultado)"
      ],
      "metadata": {
        "id": "TjmB8IWpMgV4",
        "colab": {
          "base_uri": "https://localhost:8080/"
        },
        "outputId": "7eb2dff4-dc6a-416a-e936-032b7d359178"
      },
      "execution_count": 6,
      "outputs": [
        {
          "output_type": "execute_result",
          "data": {
            "text/plain": [
              "float"
            ]
          },
          "metadata": {},
          "execution_count": 6
        }
      ]
    },
    {
      "cell_type": "code",
      "source": [
        "resultado"
      ],
      "metadata": {
        "colab": {
          "base_uri": "https://localhost:8080/"
        },
        "id": "2T6L4fo2K32s",
        "outputId": "4c947d44-d3f4-4ebd-9111-892ddd87fb25"
      },
      "execution_count": 7,
      "outputs": [
        {
          "output_type": "execute_result",
          "data": {
            "text/plain": [
              "8.375"
            ]
          },
          "metadata": {},
          "execution_count": 7
        }
      ]
    },
    {
      "cell_type": "markdown",
      "source": [
        "#### **Situación 3:**\n",
        "\n",
        "Recibimos una nueva solicitud. Debemos calcular el promedio de un estudiante a partir de una lista y retornar tanto el promedio como la situación del estudiante (\"Aprobado(a)\" si la nota es mayor o igual a 7.0, en caso contrario, será \"Reprobado(a)\").\n",
        "\n",
        "Además de ello, necesitamos exhibir un pequeño texto para indicar el promedio del estudiante y cuál es su situación. Los datos recibidos corresponden a una lista que contiene apenas las notas de un estudiante en una materia determinada.\n",
        "\n",
        "**¿Vamos a resolver este desafío?**\n",
        "\n",
        "Para facilitar nuestra comprensión del proceso, vamos a aplicar las notas de un único estudiante; sin embargo, puedes probar otros casos para practicar."
      ],
      "metadata": {
        "id": "_awyOKOH8OOi"
      }
    },
    {
      "cell_type": "code",
      "source": [
        "# Notas del estudiante\n",
        "notas = [8.5, 9.0, 6.0, 10.0]"
      ],
      "metadata": {
        "id": "3saGo2kDf0BY"
      },
      "execution_count": 8,
      "outputs": []
    },
    {
      "cell_type": "code",
      "source": [
        "def informe(lista):\n",
        "  resultado = sum(lista) / len(lista)\n",
        "  if resultado >= 7:\n",
        "    situacion ='Aprobado(a)'\n",
        "  else:\n",
        "    situacion = 'Reprobado(a)'\n",
        "  return (resultado,situacion)"
      ],
      "metadata": {
        "id": "unNLrdFjMjbv"
      },
      "execution_count": 13,
      "outputs": []
    },
    {
      "cell_type": "code",
      "source": [
        "informe(notas)"
      ],
      "metadata": {
        "id": "Rmvg4hNeMjeD",
        "colab": {
          "base_uri": "https://localhost:8080/"
        },
        "outputId": "491dbab0-080e-4d0d-8280-d77e29d7beae"
      },
      "execution_count": 14,
      "outputs": [
        {
          "output_type": "execute_result",
          "data": {
            "text/plain": [
              "(8.375, 'Aprobado(a)')"
            ]
          },
          "metadata": {},
          "execution_count": 14
        }
      ]
    },
    {
      "cell_type": "code",
      "source": [
        "resultado, situacion = informe(notas)"
      ],
      "metadata": {
        "id": "jCYuFpmeMji6"
      },
      "execution_count": 15,
      "outputs": []
    },
    {
      "cell_type": "code",
      "source": [
        "print(f'El/la estudiante obtuvo un puntaje de {resultado} y su situación es: {situacion}')"
      ],
      "metadata": {
        "id": "hSht0Z2cMjlT",
        "colab": {
          "base_uri": "https://localhost:8080/"
        },
        "outputId": "e8d619d5-0af1-4b28-8af1-8732ab136109"
      },
      "execution_count": 16,
      "outputs": [
        {
          "output_type": "stream",
          "name": "stdout",
          "text": [
            "El/la estudiante obtuvo un puntaje de 8.375 y su situación es: Aprobado(a)\n"
          ]
        }
      ]
    },
    {
      "cell_type": "code",
      "source": [
        "def informe(lista):\n",
        "  resultado = sum(lista) / len(lista)\n",
        "  if resultado >= 7:\n",
        "    situacion ='Aprobado(a)'\n",
        "  else:\n",
        "    situacion = 'Reprobado(a)'\n",
        "\n",
        "  return(f'El/la estudiante obtuvo un puntaje de {resultado} y su situación es: {situacion}')"
      ],
      "metadata": {
        "id": "tLdjCulMMjnD"
      },
      "execution_count": 26,
      "outputs": []
    },
    {
      "cell_type": "code",
      "source": [
        "notas_2 =[7.5, 4.0, 3.0, 10.0]"
      ],
      "metadata": {
        "id": "nDF2iqBbNgvD"
      },
      "execution_count": 27,
      "outputs": []
    },
    {
      "cell_type": "code",
      "source": [
        "informe(notas_2)"
      ],
      "metadata": {
        "colab": {
          "base_uri": "https://localhost:8080/",
          "height": 35
        },
        "id": "LRzxYrG8Nv_V",
        "outputId": "d9eb1fe7-8308-4a1f-eb07-c86ba850d9b5"
      },
      "execution_count": 28,
      "outputs": [
        {
          "output_type": "execute_result",
          "data": {
            "text/plain": [
              "'El/la estudiante obtuvo un puntaje de 6.125 y su situación es: Reprobado(a)'"
            ],
            "application/vnd.google.colaboratory.intrinsic+json": {
              "type": "string"
            }
          },
          "metadata": {},
          "execution_count": 28
        }
      ]
    },
    {
      "cell_type": "markdown",
      "source": [
        "## 2.4 Funciones lambda\n",
        "\n",
        "También se conocen como funciones anónimas, son funciones que no necesitan ser definidas, o sea, no poseen un nombre, y describen en una única fila los comandos que deseamos aplicar.\n",
        "\n",
        "https://docs.python.org/es/3/reference/expressions.html?#lambda\n",
        "\n",
        "#### Formato estándar:\n",
        "\n",
        "```python\n",
        "lambda <variable>: <expresion>\n",
        "```"
      ],
      "metadata": {
        "id": "hwYYRpkZMft5"
      }
    },
    {
      "cell_type": "code",
      "source": [
        "nota_ = float(input('Digite una nota: '))\n",
        "\n",
        "def cualitativa(nota):\n",
        "  return nota + 0.5\n",
        "\n",
        "cualitativa(nota_)"
      ],
      "metadata": {
        "id": "wcNxDJoPMmTJ",
        "colab": {
          "base_uri": "https://localhost:8080/"
        },
        "outputId": "5812e6ab-2f34-43e0-9ed3-92768a3c4369"
      },
      "execution_count": 29,
      "outputs": [
        {
          "name": "stdout",
          "output_type": "stream",
          "text": [
            "Digite una nota: 6\n"
          ]
        },
        {
          "output_type": "execute_result",
          "data": {
            "text/plain": [
              "6.5"
            ]
          },
          "metadata": {},
          "execution_count": 29
        }
      ]
    },
    {
      "cell_type": "code",
      "source": [
        "nota_ = float(input('Digite una nota: '))\n",
        "\n",
        "cualitativa = lambda x: x + 0.5\n",
        "\n",
        "cualitativa(nota_)"
      ],
      "metadata": {
        "id": "S-baAoaQMmVy",
        "colab": {
          "base_uri": "https://localhost:8080/"
        },
        "outputId": "ae5b0e61-349e-4407-bcd9-28ef3c3a4a89"
      },
      "execution_count": 30,
      "outputs": [
        {
          "name": "stdout",
          "output_type": "stream",
          "text": [
            "Digite una nota: 6\n"
          ]
        },
        {
          "output_type": "execute_result",
          "data": {
            "text/plain": [
              "6.5"
            ]
          },
          "metadata": {},
          "execution_count": 30
        }
      ]
    },
    {
      "cell_type": "markdown",
      "source": [
        "#### **Situación 4:**\n",
        "\n",
        "En esta nueva solicitud, necesitamos crear una calculadora simple para obtener el promedio ponderado de notas de una materia determinada. Vamos a pedir que el usuario introduzca 3 notas (N1, N2, N3) del estudiante y devuelva el promedio ponderado de este estudiante. Los pesos de las notas son de, respectivamente 3, 2 y 5.\n",
        "\n",
        "Necesitamos exhibir un pequeño texto para poder indicar el promedio del estudiante.\n",
        "**¿Vamos a resolver este desafío?**\n"
      ],
      "metadata": {
        "id": "AuRWyNXYgD_b"
      }
    },
    {
      "cell_type": "markdown",
      "source": [
        "**Resolviendo nuestro problema:**"
      ],
      "metadata": {
        "id": "vdKk3DRBmtUE"
      }
    },
    {
      "cell_type": "code",
      "source": [
        "n1 = float(input('Digite la primera nota: '))\n",
        "n2 = float(input('Digite la segunda nota: '))\n",
        "n3 = float(input('Digite la tercera nota: '))\n",
        "\n",
        "ponderado = lambda x,y,z: (x*3 + y*2 + z*5)/10\n",
        "\n",
        "nota_final = ponderado(n1,n2,n3)"
      ],
      "metadata": {
        "id": "6YxEn9aiMnYJ",
        "colab": {
          "base_uri": "https://localhost:8080/"
        },
        "outputId": "28e4ec4f-0a1f-4535-8c6f-827b14ba7ac8"
      },
      "execution_count": 32,
      "outputs": [
        {
          "name": "stdout",
          "output_type": "stream",
          "text": [
            "Digite la primera nota: 7\n",
            "Digite la segunda nota: 8\n",
            "Digite la tercera nota: 9.6\n"
          ]
        }
      ]
    },
    {
      "cell_type": "code",
      "source": [
        "print(f'El promedio ponderado del estudiante es: {nota_final}')"
      ],
      "metadata": {
        "id": "Ptn9gQaPMnaz",
        "colab": {
          "base_uri": "https://localhost:8080/"
        },
        "outputId": "e9c94125-8ce4-4f55-9542-0bc92ee14756"
      },
      "execution_count": 33,
      "outputs": [
        {
          "output_type": "stream",
          "name": "stdout",
          "text": [
            "El promedio ponderado del estudiante es: 8.5\n"
          ]
        }
      ]
    },
    {
      "cell_type": "markdown",
      "source": [
        "#### **Situación 5:**\n",
        "\n",
        "Ahora, debemos crear una pequeña función que permita dar una nota cualitativa (puntaje extra) a las notas del trimestre de los estudiantes del grupo que ganó el concurso de programación realizado en la institución. Cada estudiante recibirá el cualitativo de 0.5 añadido al promedio.\n",
        "\n",
        "Los datos recibidos corresponden a una lista que contiene las notas de algunos estudiantes y una variable con el cualitativo recibido.\n",
        "\n",
        "**¿Vamos a resolver este desafío?**\n",
        "\n",
        "Para facilitar nuestra comprensión del proceso, vamos a aplicar las notas de 5 estudiantes; sin embargo, puedes probar otros casos para practicar."
      ],
      "metadata": {
        "id": "1qk0gLdfFcbf"
      }
    },
    {
      "cell_type": "code",
      "source": [
        "# Notas del estudiante\n",
        "notas = [6.0, 7.0, 9.0, 5.5, 8.0]\n",
        "cualitativo = 0.5"
      ],
      "metadata": {
        "id": "RdoaWhuVI_OB"
      },
      "execution_count": 36,
      "outputs": []
    },
    {
      "cell_type": "code",
      "source": [
        "notas_actualizadas = lambda x: x + 0.5"
      ],
      "metadata": {
        "id": "PzDfbv-kMq2t"
      },
      "execution_count": 37,
      "outputs": []
    },
    {
      "cell_type": "code",
      "source": [
        "notas_actualizadas(notas)"
      ],
      "metadata": {
        "id": "3YDQ39wFMq5u",
        "colab": {
          "base_uri": "https://localhost:8080/",
          "height": 193
        },
        "outputId": "2fb6d903-dddf-4bcc-8887-344b61595ff8"
      },
      "execution_count": 38,
      "outputs": [
        {
          "output_type": "error",
          "ename": "TypeError",
          "evalue": "can only concatenate list (not \"float\") to list",
          "traceback": [
            "\u001b[0;31m---------------------------------------------------------------------------\u001b[0m",
            "\u001b[0;31mTypeError\u001b[0m                                 Traceback (most recent call last)",
            "\u001b[0;32m<ipython-input-38-de6832024cbc>\u001b[0m in \u001b[0;36m<cell line: 0>\u001b[0;34m()\u001b[0m\n\u001b[0;32m----> 1\u001b[0;31m \u001b[0mnotas_actualizadas\u001b[0m\u001b[0;34m(\u001b[0m\u001b[0mnotas\u001b[0m\u001b[0;34m)\u001b[0m\u001b[0;34m\u001b[0m\u001b[0;34m\u001b[0m\u001b[0m\n\u001b[0m",
            "\u001b[0;32m<ipython-input-37-c53acd501e9d>\u001b[0m in \u001b[0;36m<lambda>\u001b[0;34m(x)\u001b[0m\n\u001b[0;32m----> 1\u001b[0;31m \u001b[0mnotas_actualizadas\u001b[0m \u001b[0;34m=\u001b[0m \u001b[0;32mlambda\u001b[0m \u001b[0mx\u001b[0m\u001b[0;34m:\u001b[0m \u001b[0mx\u001b[0m \u001b[0;34m+\u001b[0m \u001b[0;36m0.5\u001b[0m\u001b[0;34m\u001b[0m\u001b[0;34m\u001b[0m\u001b[0m\n\u001b[0m",
            "\u001b[0;31mTypeError\u001b[0m: can only concatenate list (not \"float\") to list"
          ]
        }
      ]
    },
    {
      "cell_type": "markdown",
      "source": [
        "### Mapeando valores\n",
        "\n",
        "#### Formato estándar:\n",
        "\n",
        "```python\n",
        "map(<lambda function>, <iterador>)\n",
        "```"
      ],
      "metadata": {
        "id": "SOK4BC4mmKbG"
      }
    },
    {
      "cell_type": "code",
      "source": [
        "notas_actualizadas = map(lambda x: x + 0.5, notas)"
      ],
      "metadata": {
        "id": "ZbfpvfWJMsjv"
      },
      "execution_count": 39,
      "outputs": []
    },
    {
      "cell_type": "code",
      "source": [
        "notas_actualizadas"
      ],
      "metadata": {
        "id": "TA-zGLJfMseA",
        "colab": {
          "base_uri": "https://localhost:8080/"
        },
        "outputId": "3b64faa4-4c44-4940-e61a-dbf8f03746b0"
      },
      "execution_count": 40,
      "outputs": [
        {
          "output_type": "execute_result",
          "data": {
            "text/plain": [
              "<map at 0x7c3ab5d18d90>"
            ]
          },
          "metadata": {},
          "execution_count": 40
        }
      ]
    },
    {
      "cell_type": "code",
      "source": [
        "notas_actualizadas = list(notas_actualizadas)"
      ],
      "metadata": {
        "id": "PrAppvR6MuKm"
      },
      "execution_count": 41,
      "outputs": []
    },
    {
      "cell_type": "code",
      "source": [
        "print(notas_actualizadas)\n",
        "print(notas)"
      ],
      "metadata": {
        "colab": {
          "base_uri": "https://localhost:8080/"
        },
        "id": "S-DdDKgIT4Yp",
        "outputId": "c4af0f6f-6e15-47ca-9e60-5d32e9445e5c"
      },
      "execution_count": 42,
      "outputs": [
        {
          "output_type": "stream",
          "name": "stdout",
          "text": [
            "[6.5, 7.5, 9.5, 6.0, 8.5]\n",
            "[6.0, 7.0, 9.0, 5.5, 8.0]\n"
          ]
        }
      ]
    },
    {
      "cell_type": "markdown",
      "source": [
        "#Hora de practicar: Ejercicios resueltos sobre funciones"
      ],
      "metadata": {
        "id": "rm2C_D5Fc55h"
      }
    },
    {
      "cell_type": "markdown",
      "source": [
        "1 - Escribe un código que lee la lista siguiente y realiza:\n",
        "lista = [16, 14, 63, 65, 17, 99, 70, 11, 20, 48, 79, 32, 17, 89, 12, 25, 66]\n",
        "1. Leer el tamaño de la lista\n",
        "2. Leer el valor máximo y mínimo\n",
        "3. Calcular la suma de los valores de la lista\n",
        "4. Mostrar un mensaje al final: La lista tiene `tamano` números, donde el mayor es `mayor` y el menor es `menor`. La suma de los valores es `suma`."
      ],
      "metadata": {
        "id": "6qdvNEUFdFGe"
      }
    },
    {
      "cell_type": "code",
      "source": [
        "lista = [16, 14, 63, 65, 17, 99, 70, 11, 20, 48, 79, 32, 17, 89, 12, 25, 66]\n",
        "\n",
        "# Leer el tamaño de la lista\n",
        "tam = len(lista)\n",
        "\n",
        "# Leer el valor máximo y mínimo\n",
        "mayor = max(lista)\n",
        "menor = min(lista)\n",
        "\n",
        "# Calcular la suma de los valores de la lista\n",
        "soma = sum(lista)\n",
        "\n",
        "# Mostrar un mensaje al final\n",
        "print(f\"La lista tiene {tam} números, donde el mayor es {mayor} y el menor es {menor}. La suma de los valores es {soma}\")"
      ],
      "metadata": {
        "colab": {
          "base_uri": "https://localhost:8080/"
        },
        "id": "nLsNFIkcc5RM",
        "outputId": "0adb2103-9f9a-4ace-d695-f7991ce52bbb"
      },
      "execution_count": 43,
      "outputs": [
        {
          "output_type": "stream",
          "name": "stdout",
          "text": [
            "La lista tiene 17 números, donde el mayor es 99 y el menor es 11. La suma de los valores es 743\n"
          ]
        }
      ]
    },
    {
      "cell_type": "markdown",
      "source": [
        "2 - Escribe una función que genere la tabla de multiplicar de un número entero del 1 al 10, según la elección del usuario. Como ejemplo, para el número 7, la tabla de multiplicar se debe mostrar en el siguiente formato:"
      ],
      "metadata": {
        "id": "A3Dt7Tmoc78O"
      }
    },
    {
      "cell_type": "code",
      "source": [
        "def tabla_multiplicar(numero):\n",
        "    print(f\"Tabla de multiplicar del {numero}:\")\n",
        "    for i in range(11):\n",
        "        print(f\"{numero} x {i} = {numero * i}\")\n",
        "\n",
        "# Uso de la función\n",
        "tabla_multiplicar(7)"
      ],
      "metadata": {
        "colab": {
          "base_uri": "https://localhost:8080/"
        },
        "id": "7SZP6Xptc8E8",
        "outputId": "2c973e6c-cfad-4bd0-8017-f7e0fc7bf90e"
      },
      "execution_count": 44,
      "outputs": [
        {
          "output_type": "stream",
          "name": "stdout",
          "text": [
            "Tabla de multiplicar del 7:\n",
            "7 x 0 = 0\n",
            "7 x 1 = 7\n",
            "7 x 2 = 14\n",
            "7 x 3 = 21\n",
            "7 x 4 = 28\n",
            "7 x 5 = 35\n",
            "7 x 6 = 42\n",
            "7 x 7 = 49\n",
            "7 x 8 = 56\n",
            "7 x 9 = 63\n",
            "7 x 10 = 70\n"
          ]
        }
      ]
    },
    {
      "cell_type": "markdown",
      "source": [
        "3 - Crea una función que lea la siguiente lista y devuelva una nueva lista con los múltiplos de 3:"
      ],
      "metadata": {
        "id": "RLcplsEHc8Ol"
      }
    },
    {
      "cell_type": "code",
      "source": [
        "def multiplos_de_tres(lista):\n",
        "    return [num for num in lista if num % 3 == 0]\n",
        "\n",
        "# Uso de la función\n",
        "lista_original = [97, 80, 94, 88, 80, 1, 16, 53, 62, 32, 24, 99]\n",
        "mult_3 = multiplos_de_tres(lista_original)\n",
        "print(mult_3)"
      ],
      "metadata": {
        "colab": {
          "base_uri": "https://localhost:8080/"
        },
        "id": "IlHNfuVdc8YM",
        "outputId": "73e7b1d5-38a2-4b02-c442-a7262333f8bf"
      },
      "execution_count": 45,
      "outputs": [
        {
          "output_type": "stream",
          "name": "stdout",
          "text": [
            "[24, 99]\n"
          ]
        }
      ]
    },
    {
      "cell_type": "markdown",
      "source": [
        "4 - Crea una lista de los cuadrados de los números de la siguiente lista [1, 2, 3, 4, 5, 6, 7, 8, 9, 10]. Recuerda utilizar las funciones lambda y map() para calcular el cuadrado de cada elemento de la lista."
      ],
      "metadata": {
        "id": "WN2ZlXC1c8g1"
      }
    },
    {
      "cell_type": "code",
      "source": [
        "numeros = [1, 2, 3, 4, 5, 6, 7, 8, 9, 10]\n",
        "cuadrados = list(map(lambda x: x**2, numeros))\n",
        "print(cuadrados)"
      ],
      "metadata": {
        "colab": {
          "base_uri": "https://localhost:8080/"
        },
        "id": "XNRwQquSc8ot",
        "outputId": "b4976096-fa2e-4ad8-9e73-b0a5687f352e"
      },
      "execution_count": 46,
      "outputs": [
        {
          "output_type": "stream",
          "name": "stdout",
          "text": [
            "[1, 4, 9, 16, 25, 36, 49, 64, 81, 100]\n"
          ]
        }
      ]
    },
    {
      "cell_type": "markdown",
      "source": [
        "5 - Has sido contratado como científico(a) de datos de una asociación de skate. Para analizar las notas recibidas por los skaters en algunas competiciones a lo largo del año, necesitas crear un código que calcule la puntuación de los atletas. Para ello, tu código debe recibir 5 notas ingresadas por los jueces."
      ],
      "metadata": {
        "id": "pm6JRO1Wc8yL"
      }
    },
    {
      "cell_type": "code",
      "source": [
        "notas = [float(input(f\"Ingrese la nota {i + 1}: \"))\n",
        "for i in range(5)]\n",
        "notas.sort()\n",
        "media = sum(notas[1:4]) / 3\n",
        "print(f\"Nota de la maniobra: {media:.2f}\")"
      ],
      "metadata": {
        "colab": {
          "base_uri": "https://localhost:8080/"
        },
        "id": "JCEmli2Ac859",
        "outputId": "5356e976-62e2-4394-866d-e5834143140e"
      },
      "execution_count": 47,
      "outputs": [
        {
          "output_type": "stream",
          "name": "stdout",
          "text": [
            "Ingrese la nota 1: 5\n",
            "Ingrese la nota 2: 4\n",
            "Ingrese la nota 3: 6\n",
            "Ingrese la nota 4: 5\n",
            "Ingrese la nota 5: 7\n",
            "Nota de la maniobra: 5.33\n"
          ]
        }
      ]
    },
    {
      "cell_type": "markdown",
      "source": [
        "6 - Para cumplir con una demanda de una institución educativa para el análisis del rendimiento de sus estudiantes, necesitas crear una función que reciba una lista de 4 notas y devuelva:"
      ],
      "metadata": {
        "id": "kUJ2kKXLc9DU"
      }
    },
    {
      "cell_type": "code",
      "source": [
        "def analisis_notas(notas):\n",
        "    mayor = max(notas)\n",
        "    menor = min(notas)\n",
        "    media = sum(notas) / len(notas)\n",
        "    situacion = \"Aprobado\" if media >= 6 else \"Reprobado\"\n",
        "    return mayor, menor, media, situacion\n",
        "\n",
        "# Uso de la función\n",
        "notas_estudiante = [float(input(f\"Ingrese la nota {i + 1}: \")) for i in range(4)]\n",
        "resultado = analisis_notas(notas_estudiante)\n",
        "print(f\"El estudiante obtuvo una media de {resultado[2]:.2f}, con la mayor nota de {resultado[0]:.2f} puntos y la menor nota de {resultado[1]:.2f} puntos y fue {resultado[3]}\")"
      ],
      "metadata": {
        "colab": {
          "base_uri": "https://localhost:8080/"
        },
        "id": "P2NYHcYRc9Kq",
        "outputId": "29f0d7ed-1ee9-44b6-eacd-7fe5e67ef861"
      },
      "execution_count": 48,
      "outputs": [
        {
          "output_type": "stream",
          "name": "stdout",
          "text": [
            "Ingrese la nota 1: 4\n",
            "Ingrese la nota 2: 7\n",
            "Ingrese la nota 3: 9\n",
            "Ingrese la nota 4: 6\n",
            "El estudiante obtuvo una media de 6.50, con la mayor nota de 9.00 puntos y la menor nota de 4.00 puntos y fue Aprobado\n"
          ]
        }
      ]
    },
    {
      "cell_type": "markdown",
      "source": [
        "7 - Has recibido una demanda para tratar 2 listas con los nombres y apellidos de cada estudiante concatenándolos para presentar sus nombres completos en la forma Nombre Apellido. Las listas son:"
      ],
      "metadata": {
        "id": "uIdYkwUjc9Tr"
      }
    },
    {
      "cell_type": "code",
      "source": [
        "nombres = [\"juan\", \"MaRia\", \"JOSÉ\"]\n",
        "apellidos = [\"SILVA\", \"sosa\", \"Tavares\"]\n",
        "\n",
        "# Normalizar nombres y apellidos y crear una nueva lista con los nombres completos\n",
        "nombres_normalizados = map(lambda x: x.capitalize(), nombres)\n",
        "apellidos_normalizados = map(lambda x: x.capitalize(), apellidos)\n",
        "nombres_completos = list(map(lambda x, y: f\"Nombre completo: {x} {y}\", nombres_normalizados, apellidos_normalizados))\n",
        "print(nombres_completos)"
      ],
      "metadata": {
        "colab": {
          "base_uri": "https://localhost:8080/"
        },
        "id": "94FDVgODc9by",
        "outputId": "42c33961-540b-43fc-e089-b46922aef831"
      },
      "execution_count": 50,
      "outputs": [
        {
          "output_type": "stream",
          "name": "stdout",
          "text": [
            "['Nombre completo: Juan Silva', 'Nombre completo: Maria Sosa', 'Nombre completo: José Tavares']\n"
          ]
        }
      ]
    },
    {
      "cell_type": "markdown",
      "source": [
        "8 - Como científico de datos en un equipo de fútbol, necesitas implementar nuevas formas de recopilación de datos sobre el rendimiento de los jugadores y del equipo en su conjunto. Tu primera acción es crear una forma de calcular la puntuación del equipo en el campeonato nacional a partir de los datos de goles marcados y recibidos en cada juego.\n",
        "\n",
        "Escribe una función llamada calcula_puntos() que recibe como parámetros dos listas de números enteros, representando los goles marcados y recibidos por el equipo en cada partido del campeonato. La función debe devolver la puntuación del equipo y el rendimiento en porcentaje, teniendo en cuenta que la victoria vale 3 puntos, el empate 1 punto y la derrota 0 puntos.\n",
        "\n",
        "Nota: si la cantidad de goles marcados en un partido es mayor que los recibidos, el equipo ganó. En caso de ser igual, el equipo empató, y si es menor, el equipo perdió. Para calcular el rendimiento, debemos hacer la razón entre la puntuación del equipo y la puntuación máxima que podría recibir.\n",
        "\n",
        "Para la prueba, utiliza las siguientes listas de goles marcados y recibidos:\n",
        "\n",
        "goles_marcados = [2, 1, 3, 1, 0]\n",
        "goles_recibidos = [1, 2, 2, 1, 3]\n",
        "\n",
        "Texto probablemente mostrado:\n",
        "La puntuación del equipo fue `puntos` y su rendimiento fue `desempeno`\""
      ],
      "metadata": {
        "id": "tSucnNW9c9lL"
      }
    },
    {
      "cell_type": "code",
      "source": [],
      "metadata": {
        "id": "txH6nl3oc9sr"
      },
      "execution_count": null,
      "outputs": []
    },
    {
      "cell_type": "markdown",
      "source": [],
      "metadata": {
        "id": "eBYufD8idB5i"
      }
    },
    {
      "cell_type": "code",
      "source": [],
      "metadata": {
        "id": "N0t5HLvldCBL"
      },
      "execution_count": null,
      "outputs": []
    },
    {
      "cell_type": "markdown",
      "source": [],
      "metadata": {
        "id": "YjVY77iCdCOb"
      }
    },
    {
      "cell_type": "code",
      "source": [
        "goles_marcados = [2, 1, 3, 1, 0]\n",
        "goles_recibidos = [1, 2, 2, 1, 3]\n",
        "\n",
        "def calcula_puntos(goles_marcados, goles_recibidos):\n",
        "  puntos = 0\n",
        "  for i in range(len(goles_marcados)):\n",
        "    if goles_marcados[i] > goles_recibidos[i]:\n",
        "      puntos += 3\n",
        "    elif goles_marcados[i] == goles_recibidos[i]:\n",
        "      puntos += 1\n",
        "  rendimiento = 100 * puntos / (len(goles_marcados) * 3)\n",
        "  return (puntos, rendimiento)\n",
        "\n",
        "puntos, rendimiento = calcula_puntos(goles_marcados, goles_recibidos)\n",
        "print(f\"La puntuación del equipo fue de {puntos} y su rendimiento fue de {round(rendimiento)}%\")"
      ],
      "metadata": {
        "colab": {
          "base_uri": "https://localhost:8080/"
        },
        "id": "pe_YKtGudCXS",
        "outputId": "f5bfe72d-ee5d-4d35-b1a6-9f3d0ec2b25d"
      },
      "execution_count": 51,
      "outputs": [
        {
          "output_type": "stream",
          "name": "stdout",
          "text": [
            "La puntuación del equipo fue de 7 y su rendimiento fue de 47%\n"
          ]
        }
      ]
    },
    {
      "cell_type": "markdown",
      "source": [
        "9 - Te han desafiado a crear un código que calcule los gastos de un viaje a una de las cuatro ciudades desde Recife, siendo ellas: Salvador, Fortaleza, Natal y Aracaju.\n",
        "\n",
        "El costo diario del hotel es de 150 reales en todas ellas y el consumo de gasolina en el viaje en coche es de 14 km/l, siendo que el precio de la gasolina es de 5 reales por litro. Los gastos con paseos y alimentación a realizar en cada una de ellas por día serían [200, 400, 250, 300], respectivamente.\n",
        "\n",
        "Sabiendo que las distancias entre Recife y cada una de las ciudades son aproximadamente [850, 800, 300, 550] km, crea tres funciones: la primera función calcula los gastos de hotel (gasto_hotel), la segunda calcula los gastos de gasolina (gasto_gasolina) y la tercera los gastos de paseo y alimentación (gasto_paseo).\n",
        "\n",
        "Para probar, simula un viaje de 3 días a Salvador desde Recife. Considera el viaje de ida y vuelta en coche.\n",
        "\n",
        "-Texto probablemente mostrado:\n",
        "Con base en los gastos definidos, un viaje de [dias] días a [ciudad] desde\n",
        "Recife costaría [gastos] reales."
      ],
      "metadata": {
        "id": "8G0odIwmdCuZ"
      }
    },
    {
      "cell_type": "code",
      "source": [
        "dias = int(input(\"¿Cuántas diarias? \"))\n",
        "ciudad = input(\"¿Cuál es la ciudad? [Salvador, Fortaleza, Natal o Aracaju]: \")\n",
        "distancias = [850, 800, 300, 550]\n",
        "paseo = [200, 400, 250, 300]\n",
        "km_l = 14\n",
        "gasolina = 5\n",
        "\n",
        "def gasto_hotel(dias):\n",
        "    return 150 * dias\n",
        "\n",
        "def gasto_gasolina(ciudad):\n",
        "    if ciudad == \"Salvador\":\n",
        "        return (2 * distancias[0] * gasolina) / km_l\n",
        "    elif ciudad == \"Fortaleza\":\n",
        "        return (2 * distancias[1] * gasolina) / km_l\n",
        "    elif ciudad == \"Natal\":\n",
        "        return (2 * distancias[2] * gasolina) / km_l\n",
        "    elif ciudad == \"Aracaju\":\n",
        "        return (2 * distancias[3] * gasolina) / km_l\n",
        "\n",
        "def gasto_paseo(ciudad, dias):\n",
        "    if ciudad==\"Salvador\":\n",
        "        return paseo[0] * dias\n",
        "    elif ciudad==\"Fortaleza\":\n",
        "        return paseo[1] * dias\n",
        "    elif ciudad==\"Natal\":\n",
        "        return paseo[2] * dias\n",
        "    elif ciudad==\"Aracaju\":\n",
        "        return paseo[3] * dias\n",
        "\n",
        "gastos = gasto_hotel(dias) + gasto_gasolina(ciudad) + gasto_paseo(ciudad, dias)\n",
        "print(f\"Con base en los gastos definidos, un viaje de {dias} días a {ciudad} desde Recife costaría {round(gastos, 2)} reales\")"
      ],
      "metadata": {
        "colab": {
          "base_uri": "https://localhost:8080/"
        },
        "id": "PHG25ve2dC1I",
        "outputId": "bd119b65-6a1e-42fc-b3f1-1bc8bf433a67"
      },
      "execution_count": 53,
      "outputs": [
        {
          "output_type": "stream",
          "name": "stdout",
          "text": [
            "¿Cuántas diarias? 2\n",
            "¿Cuál es la ciudad? [Salvador, Fortaleza, Natal o Aracaju]: Natal\n",
            "Con base en los gastos definidos, un viaje de 2 días a Natal desde Recife costaría 1014.29 reales\n"
          ]
        }
      ]
    },
    {
      "cell_type": "markdown",
      "source": [
        "10 - Has comenzado una pasantía en una empresa que trabaja con procesamiento de lenguaje natural (NLP). Tu líder te solicitó que crees un fragmento de código que reciba una frase escrita por el usuario y filtre solo las palabras con un tamaño mayor o igual a 5, mostrándolas en una lista. Esta demanda se centra en el análisis del patrón de comportamiento de las personas al escribir palabras de esta cantidad de caracteres o más.\n",
        "\n",
        "Consejo: utiliza las funciones lambda y filter() para filtrar estas palabras. Recordando que la función integrada filter() recibe una función (en nuestro caso, una función lambda) y filtra un iterable según la función. Para tratar la frase, utiliza replace() para cambiar ',' '.', '!' y '?' por espacio.\n",
        "\n",
        "Utiliza la frase \"Aprender Python aquí en Alura es muy bueno\" para probar el código."
      ],
      "metadata": {
        "id": "7U6nFUCsgzf0"
      }
    },
    {
      "cell_type": "code",
      "source": [
        "# Solicitando una frase y separándola por espacios. Usando replace para cambiar puntuaciones por espacios.\n",
        "frase = input(\"Escribe una frase: \")\n",
        "frase = frase.replace(',',' ').replace('.',' ').replace('!',' ').replace('?',' ').split()\n",
        "\n",
        "# Filtrando la frase en formato de lista, pasando a la lista tamaño solo las palabras con 5 o más caracteres e imprimiéndola en pantalla\n",
        "tamano = list(filter(lambda x: len(x) >= 5, frase))\n",
        "print(tamano)"
      ],
      "metadata": {
        "colab": {
          "base_uri": "https://localhost:8080/"
        },
        "id": "SbycMk0hgzzT",
        "outputId": "908a06f5-e15a-42b6-a4a6-cad6b969a472"
      },
      "execution_count": 54,
      "outputs": [
        {
          "output_type": "stream",
          "name": "stdout",
          "text": [
            "Escribe una frase: Aprender Python aquí en Alura es muy bueno\n",
            "['Aprender', 'Python', 'Alura', 'bueno']\n"
          ]
        }
      ]
    },
    {
      "cell_type": "markdown",
      "source": [
        "## <font color=green> 3. ESTRUCTURAS DE DATOS COMPUESTAS\n",
        "---"
      ],
      "metadata": {
        "id": "DoB6wf2JCYf7"
      }
    },
    {
      "cell_type": "markdown",
      "source": [
        "## 3.1 Estructuras anidadas\n",
        "\n",
        "Previamente, aprendimos a manipular las listas, tuplas y diccionarios para trabajar con una secuencia o colección de valores sean numéricos, categóricos, etc. En esta aula, vamos a profundizar en otra situación común para la persona científica de datos que es trabajar con estos tipos de estructuras anidadas, o sea, cuando, por ejemplo, tenemos listas dentro de una lista."
      ],
      "metadata": {
        "id": "3or6MbnZDW_b"
      }
    },
    {
      "cell_type": "markdown",
      "source": [
        "### **Lista de listas**\n",
        "\n",
        "#### Formato estándar:\n",
        "\n",
        "```python\n",
        "[[a1, a2,...,an], [b1, b2,...,bn], ..., [n1, n2,...,nn]]\n",
        "```"
      ],
      "metadata": {
        "id": "fddus1G9HqB3"
      }
    },
    {
      "cell_type": "markdown",
      "source": [
        "#### **Situación 6:**\n",
        "\n",
        "Recibimos la demanda de transformar una lista con el nombre y las notas de tres trimestres de algunos estudiantes en una lista simple, con los nombres separados de las notas, y una lista de listas con las tres notas de cada estudiante separadas entre sí. Los datos recibidos corresponden a una lista con los nombres y las respectivas notas de cada estudiante.\n",
        "\n",
        "**¿Vamos a resolver este desafío?**\n",
        "\n",
        "Para facilitar nuestra comprensión del proceso, vamos a trabajar con un grupo de 5 estudiantes; sin embargo, puedes probar otros casos para practicar.\n"
      ],
      "metadata": {
        "id": "32K5LA11tFpz"
      }
    },
    {
      "cell_type": "code",
      "source": [
        "notas_grupo = ['Juan', 8.0, 9.0, 10.0, 'Maria', 9.0, 7.0, 6.0, 'José', 3.4, 7.0, 7.0, 'Claudia', 5.5, 6.6, 8.0, 'Ana', 6.0, 10.0, 9.5]"
      ],
      "metadata": {
        "id": "jlEP-c2YthpB"
      },
      "execution_count": null,
      "outputs": []
    },
    {
      "cell_type": "code",
      "source": [],
      "metadata": {
        "id": "azR_cX-ILghB"
      },
      "execution_count": null,
      "outputs": []
    },
    {
      "cell_type": "code",
      "source": [],
      "metadata": {
        "id": "GhfsJvs9LgjY"
      },
      "execution_count": null,
      "outputs": []
    },
    {
      "cell_type": "code",
      "source": [],
      "metadata": {
        "id": "tB8FA20gLiog"
      },
      "execution_count": null,
      "outputs": []
    },
    {
      "cell_type": "code",
      "source": [],
      "metadata": {
        "id": "SCi8Jl82Liqo"
      },
      "execution_count": null,
      "outputs": []
    },
    {
      "cell_type": "markdown",
      "source": [
        "### **Lista de tuplas**\n",
        "\n",
        "#### Formato estándar:\n",
        "\n",
        "```python\n",
        "[(a1, a2,...,an), (b1, b2,...,bn), ..., (n1, n2,...,nn)]\n",
        "```"
      ],
      "metadata": {
        "id": "SW0sVg68sK_z"
      }
    },
    {
      "cell_type": "markdown",
      "source": [
        "#### **Situación 7:**\n",
        "\n",
        "Necesitamos generar una lista de tuplas con los nombres de los estudiantes y el código ID de cada uno de ellos para la plataforma de análisis de datos. La creación del código consiste en concatenar la primera letra del nombre del estudiante con un número aleatorio de 0 a 999. Los datos recibidos corresponden a una lista con los nombres de cada estudiante.\n",
        "\n",
        "**¿Vamos a resolver este desafío?**\n",
        "\n",
        "Para facilitar nuestra comprensión del proceso, vamos a trabajar con un grupo de 5 estudiantes; sin embargo, puedes probar otros casos para practicar.\n"
      ],
      "metadata": {
        "id": "OId6jAZz5x2m"
      }
    },
    {
      "cell_type": "code",
      "source": [],
      "metadata": {
        "id": "YA1zJ0G6LkTy"
      },
      "execution_count": null,
      "outputs": []
    },
    {
      "cell_type": "code",
      "source": [],
      "metadata": {
        "id": "yBzPwhGiLkWa"
      },
      "execution_count": null,
      "outputs": []
    },
    {
      "cell_type": "code",
      "source": [],
      "metadata": {
        "id": "9qgGAjSyLndK"
      },
      "execution_count": null,
      "outputs": []
    },
    {
      "cell_type": "code",
      "source": [],
      "metadata": {
        "id": "jVRxtOyeLngM"
      },
      "execution_count": null,
      "outputs": []
    },
    {
      "cell_type": "markdown",
      "source": [
        "## 3.2 List comprehension\n",
        "\n",
        "Es una forma simple y concisa de crear una lista. Podemos aplicar condicionales y lazos para crear diversos tipos de listas a partir de patrones que deseamos para nuestra estructura de datos.\n",
        "\n",
        "https://docs.python.org/es/3/tutorial/datastructures.html?#list-comprehensions\n",
        "\n",
        "#### Formato estándar:\n",
        "\n",
        "```python\n",
        "[expresion for item in lista]\n",
        "```"
      ],
      "metadata": {
        "id": "srHAov19QCdb"
      }
    },
    {
      "cell_type": "markdown",
      "source": [
        "#### **Situación 8:**\n",
        "\n",
        "Recibimos la demanda de crear una lista con el promedio de los estudiantes de la lista de listas que creamos en la Situación 6, redondeando el promedio a una casilla decimal. Recordando que cada lista de la lista de listas contiene las tres notas de cada estudiante.\n",
        "\n",
        "**¿Vamos a resolver este desafío?**\n",
        "\n",
        "**Tip:** Utiliza el formato:\n",
        "```python\n",
        "[expresion for item in lista]\n",
        "```"
      ],
      "metadata": {
        "id": "l4HW0gDqecgM"
      }
    },
    {
      "cell_type": "code",
      "source": [
        "def promedio(lista: list=[0]) -> float:\n",
        "  ''' Función para calcular el promedio de notas en una lista\n",
        "\n",
        "  lista: list, default [0]\n",
        "    Lista con las notas para calcular el promedio\n",
        "  return = calculo: float\n",
        "    Promedio calculado\n",
        "  '''\n",
        "\n",
        "  calculo = sum(lista) / len(lista)\n",
        "\n",
        "  return calculo"
      ],
      "metadata": {
        "id": "J_atQRQdlpNe"
      },
      "execution_count": null,
      "outputs": []
    },
    {
      "cell_type": "code",
      "source": [],
      "metadata": {
        "id": "h7LeBrgnLAG6"
      },
      "execution_count": null,
      "outputs": []
    },
    {
      "cell_type": "code",
      "source": [],
      "metadata": {
        "id": "3j8_H7e8LAJZ"
      },
      "execution_count": null,
      "outputs": []
    },
    {
      "cell_type": "markdown",
      "source": [
        "#### **Situación 9:**\n",
        "\n",
        "Ahora, necesitamos utilizar los promedios calculados en el ejemplo anterior, y agruparlos con el nombre de los respectivos estudiantes. Esto será necesario para generar una lista que seleccione a aquellos estudiantes que posean un promedio final mayor o igual a 8 para concursar por una beca de estudios para el próximo año lectivo. Los datos recibidos corresponden a una lista de tuplas con los nombres y los códigos de los estudiantes junto a la lista de promedios calculados previamente.\n",
        "\n",
        "**Nota: El número de código será diferente cada vez que se ejecute la celda que los genera, por lo tanto, es completamente normal que estos códigos sean diferentes.**\n",
        "\n",
        "**¿Vamos a resolver este desafío?**\n",
        "\n",
        "Para facilitar nuestra comprensión del proceso vamos a trabajar con un grupo de 5 estudiantes.\n",
        "\n",
        "**Tip:** Utiliza el formato:\n",
        "\n",
        "```python\n",
        "[expresion for item in lista if condicion]\n",
        "```"
      ],
      "metadata": {
        "id": "ApLjXlAdhJKd"
      }
    },
    {
      "cell_type": "code",
      "source": [],
      "metadata": {
        "id": "QK-ubmmrLC7I"
      },
      "execution_count": null,
      "outputs": []
    },
    {
      "cell_type": "code",
      "source": [],
      "metadata": {
        "id": "df1Q8GGELC9b"
      },
      "execution_count": null,
      "outputs": []
    },
    {
      "cell_type": "markdown",
      "source": [
        "<font color=green>**Tip:**</font> Para lograr parear los promedios y\n",
        "los nombres fácilmente, podemos acudir a otra  built-in function: `zip()`\n",
        "\n",
        "Esta recibe uno o más iterables (lista, string, dict, etc.) y los retorna como un iterador de tuplas donde cada elemento de los iterables es pareado."
      ],
      "metadata": {
        "id": "U6KAABs7Dfpe"
      }
    },
    {
      "cell_type": "code",
      "source": [],
      "metadata": {
        "id": "841v92WvLEol"
      },
      "execution_count": null,
      "outputs": []
    },
    {
      "cell_type": "code",
      "source": [],
      "metadata": {
        "id": "U8b4G_2oLErp"
      },
      "execution_count": null,
      "outputs": []
    },
    {
      "cell_type": "markdown",
      "source": [
        "#### **Situación 10:**\n",
        "\n",
        "Recibimos dos demandas sobre este proyecto con las notas de los estudiantes:\n",
        "- Crear una lista de la situación de los estudiantes considerando los siguientes casos: Si su promedio es mayor o igual a 7, recibirá el valor \"Aprobado\" y en caso contrario recibirá el valor \"Reprobado\".\n",
        "- Generar una lista de listas con:\n",
        "  - Lista de tuplas con el nombre de los estudiantes y sus códigos\n",
        "  - Lista de listas con las notas de cada estudiante\n",
        "  - Lista con los promedios de cada estudiante\n",
        "  - Lista de la situación de los estudiantes de acuerdo con los promedios\n",
        "\n",
        "Los datos que utilizaremos son los mismos que generamos en las situaciones anteriores (`nombres`, `notas`, `promedios`).\n",
        "\n",
        "**¿Vamos a resolver este desafío?**\n",
        "\n",
        "Para avanzar en el proceso, vamos a dejar escritas las estructuras de datos que ya produjimos.\n",
        "\n",
        "**Tip:** Para la lista de las situaciones utiliza el formato:\n",
        "```python\n",
        "[resultado_if if condicion else resultado_else for item in lista]\n",
        "```"
      ],
      "metadata": {
        "id": "9yzRDIB0fkeF"
      }
    },
    {
      "cell_type": "code",
      "source": [],
      "metadata": {
        "id": "YGQIaCzkLGqd"
      },
      "execution_count": null,
      "outputs": []
    },
    {
      "cell_type": "code",
      "source": [],
      "metadata": {
        "id": "OAAQHwE1LGs2"
      },
      "execution_count": null,
      "outputs": []
    },
    {
      "cell_type": "markdown",
      "source": [
        "**Tip:** Para generar la lista de listas del enunciado podemos utilizar el siguiente formato:\n",
        "```python\n",
        "[expresion for item in lista de listas]\n",
        "```"
      ],
      "metadata": {
        "id": "0XsAi49IF9Ta"
      }
    },
    {
      "cell_type": "code",
      "source": [],
      "metadata": {
        "id": "1Dj6R1vTLIbI"
      },
      "execution_count": null,
      "outputs": []
    },
    {
      "cell_type": "code",
      "source": [],
      "metadata": {
        "id": "cTLEQQ2eLIqc"
      },
      "execution_count": null,
      "outputs": []
    },
    {
      "cell_type": "markdown",
      "source": [
        "<font color=green>**Tip:**</font> Podemos acudir a la forma más simple de generación de lista de listas con el uso directo de los corchetes sin la necesidad de utilizar las expresiones y el lazo `for` que se emplea en la comprensión de listas."
      ],
      "metadata": {
        "id": "4hkHEZGbGH7X"
      }
    },
    {
      "cell_type": "code",
      "source": [],
      "metadata": {
        "id": "1tEtWzSoLKKg"
      },
      "execution_count": null,
      "outputs": []
    },
    {
      "cell_type": "code",
      "source": [],
      "metadata": {
        "id": "lRk02Bm5LMB3"
      },
      "execution_count": null,
      "outputs": []
    },
    {
      "cell_type": "markdown",
      "source": [
        "## 3.3 Dict comprehension\n",
        "\n",
        "Es una forma simple y concisa de crear o modificar un diccionario. Podemos aplicar condicionales y lazos para crear diversos tipos de diccionarios a partir de los patrones que buscamos para nuestra estructura de datos y con el soporte de iterables como listas o sets.\n",
        "\n",
        "https://peps.python.org/pep-0274/\n",
        "\n",
        "#### Formato estándar:\n",
        "\n",
        "```python\n",
        "{llave: valor for item in lista}\n",
        "```"
      ],
      "metadata": {
        "id": "NmohhDl-QRpx"
      }
    },
    {
      "cell_type": "markdown",
      "source": [
        "#### **Situación 11:**\n",
        "\n",
        "Ahora, nuestra demanda consiste en generar un diccionario a partir de la lista de listas que creamos en la Situación 10 para entregar a la persona responsable por construir las tablas para el análisis de los datos.\n",
        "- Las llaves de nuestro diccionario serán las columnas identificando el tipo de dato\n",
        "- Los valores serán las listas con los datos correspondientes a aquella llave.\n",
        "\n",
        "**¿Vamos a resolver este desafío?**\n",
        "\n",
        "Para facilitar nuestra comprensión del proceso vamos a trabajar con un grupo de 5 estudiantes.\n",
        "\n",
        "**Tip:** Utiliza el formato\n",
        "\n",
        "```python\n",
        "{llave: valor for item in lista}\n",
        "```"
      ],
      "metadata": {
        "id": "kGt8hQXOKeIt"
      }
    },
    {
      "cell_type": "code",
      "source": [],
      "metadata": {
        "id": "GuTwYw8NLNST"
      },
      "execution_count": null,
      "outputs": []
    },
    {
      "cell_type": "code",
      "source": [],
      "metadata": {
        "id": "Ka1JPCuvLP4x"
      },
      "execution_count": null,
      "outputs": []
    },
    {
      "cell_type": "code",
      "source": [],
      "metadata": {
        "id": "4GhlzfLbLP8L"
      },
      "execution_count": null,
      "outputs": []
    },
    {
      "cell_type": "markdown",
      "source": [
        "## <font color=green> 4. LIDIANDO CON EXCEPCIONES\n",
        "---"
      ],
      "metadata": {
        "id": "RxKC5WVoCYp3"
      }
    },
    {
      "cell_type": "markdown",
      "source": [
        "Hemos podido evidenciar hasta aquí la existencia de algunos errores y excepciones en la ejecución de algún comando. Como científico/a de datos o programador, necesitarás estar atento a estas situaciones para evitar bugs o problemas en tus códigos y análisis que puedan afectar la experiencia tanto del usuario como la eficiencia de su análisis.\n",
        "\n",
        "Existen básicamente dos formas distintas de errores: Los **errores de sintáxis** y las **excepciones**.\n",
        "\n",
        "Las excepciones son errores detectados durante la ejecución e interrumpen el flujo del programa cerrándolo en caso de que no sean tratadas.  \n",
        "\n",
        "Vamos a aprender a identificar y tratar algunas de las excepciones aquí, pero es siempre importante consultar la documentación para investigar y verificar cuáles se ajustan a sus proyectos.\n",
        "\n",
        "**Documentación sobre errores y excepciones:** https://docs.python.org/es/3/tutorial/errors.html"
      ],
      "metadata": {
        "id": "MzOZ_0M3CU1x"
      }
    },
    {
      "cell_type": "markdown",
      "source": [
        "## 4.1 Tratando las Excepciones\n",
        "\n",
        "El tratamiento de las excepciones contribuye a establecer un flujo alternativo para la ejecución del código evitando la interrupción de los procesos inesperadamente.\n",
        "\n",
        "Existe una serie de excepciones, y a partir del comportamiento que queremos, y de los errores que queremos tratar, es posible construir un camino para el usuario, o también, proveer más detalles sobre aquella excepción.\n",
        "\n",
        "- Jerarquía de las excepciones (https://docs.python.org/es/3/library/exceptions.html#exception-hierarchy)"
      ],
      "metadata": {
        "id": "x3E66krBST7K"
      }
    },
    {
      "cell_type": "markdown",
      "source": [
        "### Try ... Except\n",
        "\n",
        "```python\n",
        "try:\n",
        "  # código que será ejecutado. En caso de que surja una excepción, para inmediatamente\n",
        "except <nombre_de_la_excepcion as e>:\n",
        "  # Si surje una excepción en el try, ejecuta este código, si no, salta esta etapa\n",
        "```"
      ],
      "metadata": {
        "id": "h9lj8Wfk__cl"
      }
    },
    {
      "cell_type": "markdown",
      "source": [
        "#### **Situación 12:**\n",
        "\n",
        "Creaste un código que lee un diccionario con las notas de los estudiantes y querías retornar la lista de notas de un estudiante.\n",
        "\n",
        "En caso que el/la estudiante no esté matriculado(a) en el grupo debemos tratar la excepción para presentar el mensaje \"Estudiante no matriculado(a) en el grupo\".\n",
        "\n",
        "Vamos a trabajar en este ejemplo con la excepción **Key Error** que interrumpirá el processo de este trecho de código.\n",
        "\n",
        "**¿Vamos a probar este primer tratamiento?**\n",
        "\n"
      ],
      "metadata": {
        "id": "miwzhPNdD8Ty"
      }
    },
    {
      "cell_type": "code",
      "source": [
        "notas = {'Juan': [8.0, 9.0, 10.0], 'Maria': [9.0, 7.0, 6.0], 'José': [3.4, 7.0, 8.0], 'Claudia': [5.5, 6.6, 8.0],\n",
        "         'Ana': [6.0, 10.0, 9.5], 'Jorge': [5.5, 7.5, 9.0], 'Julia': [6.0, 8.0, 7.0], 'Pedro': [3.0, 4.0, 6.0]}"
      ],
      "metadata": {
        "id": "UvVbXY0XVm-f"
      },
      "execution_count": null,
      "outputs": []
    },
    {
      "cell_type": "code",
      "source": [],
      "metadata": {
        "id": "rFBq02dbJtkF"
      },
      "execution_count": null,
      "outputs": []
    },
    {
      "cell_type": "code",
      "source": [],
      "metadata": {
        "id": "IZwxTL1EJvRl"
      },
      "execution_count": null,
      "outputs": []
    },
    {
      "cell_type": "markdown",
      "source": [
        "### Agregando la cláusula Else\n",
        "\n",
        "```python\n",
        "try:\n",
        "  # código que será ejecutado. En caso de que surja una excepción, para inmediatamente\n",
        "except:\n",
        "  # Si surje una excepción en el try, ejecuta este código, si no, salta esta etapa\n",
        "else:\n",
        "  # Si no surjen excepciones, ejecuta esta parte del código\n",
        "```"
      ],
      "metadata": {
        "id": "hKhKzgQoBHLb"
      }
    },
    {
      "cell_type": "markdown",
      "source": [
        "#### **Situación 13:**\n",
        "\n",
        "Creaste un código que lee un diccionario con las notas de los estudiantes y querías retornar la lista de notas de un estudiante.\n",
        "\n",
        "En caso de que el/la estudiante no esté matriculado(a) en la clase, debe aparecer el siguiente mensaje: \"Estudiante no matriculado(a) en el grupo\" y, si no surje la excepción, debemos exhibir la lista con las notas del(la) estudiante.\n",
        "\n",
        "Vamos a trabajar en este ejemplo con la excepción **Key Error** que interrumpirá el proceso de este trecho de código.\n",
        "\n",
        "**¿Vamos a probar este tratamiento?**\n"
      ],
      "metadata": {
        "id": "USN3SA2tMjL0"
      }
    },
    {
      "cell_type": "code",
      "source": [],
      "metadata": {
        "id": "Qr_4-D3UJxcE"
      },
      "execution_count": null,
      "outputs": []
    },
    {
      "cell_type": "code",
      "source": [],
      "metadata": {
        "id": "uy2xPGXoJzXS"
      },
      "execution_count": null,
      "outputs": []
    },
    {
      "cell_type": "markdown",
      "source": [
        "### Añadiendo la cláusula finally\n",
        "\n",
        "```python\n",
        "try:\n",
        "  # código que será ejecutado. En caso de que surja una excepción, para inmediatamente\n",
        "except:\n",
        "  # Si surje una excepción en el try, ejecuta este código, si no, salta esta etapa\n",
        "else:\n",
        "  # Si no surjen excepciones, ejecuta esta parte del código\n",
        "finally:\n",
        "  # Ejecuta este trecho (con o sin excepción)\n",
        "```"
      ],
      "metadata": {
        "id": "Dw_efTlbBhll"
      }
    },
    {
      "cell_type": "markdown",
      "source": [
        "#### **Situación 14:**\n",
        "\n",
        "Creaste un código que lee un diccionario con las notas de los estudiantes y querías retornar la lista de notas de un estudiante.\n",
        "\n",
        "En caso de que el/la estudiante no esté matriculado(a) en la clase, debe aparecer el siguiente mensaje: \"Estudiante no matriculado(a) en el grupo\" y, si no surje la excepción, debemos exhibir la lista con las notas del(la) estudiante. Un texto avisando que \"La consulta ha concluído.\" debe ser mostrado independientemente de si surgió o no alguna excepción.\n",
        "\n",
        "\n",
        "Vamos a trabajar en este ejemplo con la excepción **Key Error** que interrumpirá el proceso de este trecho del código.\n",
        "\n",
        "**¿Vamos a probar este tratamiento?**"
      ],
      "metadata": {
        "id": "jGtFVx5GdnsS"
      }
    },
    {
      "cell_type": "code",
      "source": [],
      "metadata": {
        "id": "PwdLYP_zJ04s"
      },
      "execution_count": null,
      "outputs": []
    },
    {
      "cell_type": "code",
      "source": [],
      "metadata": {
        "id": "pv0BaQ95J1BA"
      },
      "execution_count": null,
      "outputs": []
    },
    {
      "cell_type": "markdown",
      "source": [
        "## 4.2 Raise\n",
        "\n",
        "Otra forma de trabajar con las excepciones en tu código, es generando tus propias excepciones para determinados comportamientos que deseas en tu código.\n",
        "\n",
        "Para ello, utilizamos la palabra clave `raise` junto al tipo de excepción que se desea mostrar y el mensaje que será exhibido.   "
      ],
      "metadata": {
        "id": "HdjllLBpST_2"
      }
    },
    {
      "cell_type": "markdown",
      "source": [
        "```python\n",
        "raise NombreDelError(\"Mensaje deseado.\")\n",
        "```"
      ],
      "metadata": {
        "id": "_nIOnDQufv6Z"
      }
    },
    {
      "cell_type": "markdown",
      "source": [
        "#### **Situação 15:**\n",
        "\n",
        "Creaste una función para calcular el promedio de un estudiante en una determinada materia pasando en una lista las notas de este estudiante.\n",
        "\n",
        "Pretendes tratar 2 situaciones:\n",
        "\n",
        "- Si la lista posee un valor no numérico el cálculo de promedio no será ejecutado y un mensaje de \"No fue posible calcular el promedio del(la) estudiante. Solo se admiten valores numéricos!\" será exhibido.\n",
        "\n",
        "- En caso que la lista tenga más de 4 notas, surgirá una excepción del tipo **ValueError** informando que \"La lista no puede poseer más de 4 notas.\"\n",
        "\n",
        "Un texto avisando que \"La consulta ha concluído.\" debe ser mostrado independientemente de si surgió o no alguna excepción.\n",
        "\n",
        "**¿Vamos a resolver este desafío?**"
      ],
      "metadata": {
        "id": "xapeB2ivgB7R"
      }
    },
    {
      "cell_type": "code",
      "source": [
        "def promedio(lista: list=[0]) -> float:\n",
        "  ''' Función para calcular el promedio de notas en una lista\n",
        "\n",
        "  lista: list, default [0]\n",
        "    Lista con las notas para calcular el promedio\n",
        "  return = calculo: float\n",
        "    Promedio calculado\n",
        "  '''\n",
        "\n",
        "  calculo = sum(lista) / len(lista)\n",
        "\n",
        "  return calculo"
      ],
      "metadata": {
        "id": "kKeFuHUfhSfa"
      },
      "execution_count": null,
      "outputs": []
    },
    {
      "cell_type": "code",
      "source": [],
      "metadata": {
        "id": "_ghW6hb9KBpU"
      },
      "execution_count": null,
      "outputs": []
    },
    {
      "cell_type": "code",
      "source": [],
      "metadata": {
        "id": "X2To8kJdKGFk"
      },
      "execution_count": null,
      "outputs": []
    },
    {
      "cell_type": "code",
      "source": [],
      "metadata": {
        "id": "nrCsWqX6KGIA"
      },
      "execution_count": null,
      "outputs": []
    }
  ]
}